{
 "cells": [
  {
   "cell_type": "code",
   "execution_count": 7,
   "id": "43be4e9b",
   "metadata": {},
   "outputs": [
    {
     "name": "stdout",
     "output_type": "stream",
     "text": [
      "Nhập số điện tiêu dùng trong tháng: 300\n",
      "Số tiền phải đóng (chưa thuế) là:  625600\n"
     ]
    }
   ],
   "source": [
    "# Bài 1: Viết phần mềm tính giá tiền điện của các hộ người dùng. \n",
    "#     Biết giá cước tiền điện năm 2022 được tính như sau: \n",
    "#     Dưới 50 số thì giá cước là 1678đ/1 số, \n",
    "#     từ số 51 đến số 100 với 1734 đ/số, \n",
    "#     từ 101 đến 200 với 2014đ/số, \n",
    "#     từ 201 đến 300 với 2536đ/số,\n",
    "#     từ 301 đến 400 với 2834đ/số, \n",
    "#     từ 401 trở đi với 2927đ/số. \n",
    "# Nhập vào số điện tiêu dùng trong tháng của một hộ gia đình. \n",
    "# Tính số tiền phải đóng trong tháng đó căn cứ vào giá cước ở trên.\n",
    "pnum = int(input('Nhập số điện tiêu dùng trong tháng: '))\n",
    "if pnum <= 50:\n",
    "    pfee = 1678*pnum\n",
    "elif pnum > 50 and pnum <= 100:\n",
    "    pfee = 50*1678 + (pnum-50)*1734\n",
    "elif pnum > 100 and pnum <= 200:\n",
    "    pfee = 50*1678 + 50*1734 + (pnum-100)*2014\n",
    "elif pnum > 201 and pnum <= 300:\n",
    "    pfee = 50*1678 + 50*1734 + 100*2014 + (pnum-200)*2536\n",
    "elif pnum > 301 and pnum <= 400:\n",
    "    pfee = 50*1678 + 50*1734 + 100*2014 + 100*2536 + (pnum-300)*2834\n",
    "else:\n",
    "    pfee = 50*1678 + 50*1734 + 100*2014 + 100*2536 + 100*2834 + (pnum-400)*2927\n",
    "print('Số tiền phải đóng (chưa thuế) là: ', pfee"
   ]
  },
  {
   "cell_type": "code",
   "execution_count": 2,
   "id": "093cad04",
   "metadata": {},
   "outputs": [
    {
     "name": "stdout",
     "output_type": "stream",
     "text": [
      "26x + 13\n"
     ]
    }
   ],
   "source": [
    "# Bài 2: Nhập a, b, c là hệ số của một đa thức bậc 2. \n",
    "# In ra phương trình bậc 2 dưới dạng chuẩn \n",
    "# (dạng chuẩn có nghĩa là tự nhiên như khi viết tay đa thức ra giấy hoặc bảng). \n",
    "# Các hệ số 1, -1 thì không in hệ số, \n",
    "# 0 thì không in  bậc đó. \n",
    "# Ví dụ: a = 1, b = -3, c= 0 \n",
    "# thì in ra là x^2 – 3x.\n",
    "a = int(input('Nhập a:'))\n",
    "b = int(input('Nhập b:'))\n",
    "c = int(input('Nhập c:'))\n",
    "result = ''\n",
    "\n",
    "if a < 0:\n",
    "    if a == -1:\n",
    "        result += '- x^2'\n",
    "    else:\n",
    "        result += str(a) + 'x^2'\n",
    "elif a == 0:\n",
    "    result += ''\n",
    "elif a == 1:\n",
    "    result += 'x^2'\n",
    "else:\n",
    "    result += str(a) + 'x^2'\n",
    "    \n",
    "if b < 0:\n",
    "    if b == -1:\n",
    "        result += ' - x'\n",
    "    else:\n",
    "        result += str(b) + 'x'\n",
    "elif b == 0:\n",
    "    result += ''\n",
    "elif b == 1:\n",
    "    result += ' + x'\n",
    "else:\n",
    "    if(a == 0):\n",
    "        result += str(b) + 'x'\n",
    "    else:\n",
    "        result += ' + ' + str(b) + 'x'\n",
    "\n",
    "if c > 0:\n",
    "    result += ' + ' + str(c)\n",
    "elif c < 0:\n",
    "    result += str(c)\n",
    "\n",
    "print(result)\n",
    "    "
   ]
  },
  {
   "cell_type": "code",
   "execution_count": null,
   "id": "27ad475f",
   "metadata": {},
   "outputs": [],
   "source": []
  },
  {
   "cell_type": "code",
   "execution_count": null,
   "id": "73b1259b",
   "metadata": {},
   "outputs": [],
   "source": []
  }
 ],
 "metadata": {
  "kernelspec": {
   "display_name": "Python 3 (ipykernel)",
   "language": "python",
   "name": "python3"
  },
  "language_info": {
   "codemirror_mode": {
    "name": "ipython",
    "version": 3
   },
   "file_extension": ".py",
   "mimetype": "text/x-python",
   "name": "python",
   "nbconvert_exporter": "python",
   "pygments_lexer": "ipython3",
   "version": "3.9.12"
  },
  "vscode": {
   "interpreter": {
    "hash": "b09ec625f77bf4fd762565a912b97636504ad6ec901eb2d0f4cf5a7de23e1ee5"
   }
  }
 },
 "nbformat": 4,
 "nbformat_minor": 5
}

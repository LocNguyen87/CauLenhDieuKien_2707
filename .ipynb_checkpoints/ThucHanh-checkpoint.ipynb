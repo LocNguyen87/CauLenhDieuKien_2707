{
 "cells": [
  {
   "cell_type": "code",
   "execution_count": 5,
   "id": "d5716b22",
   "metadata": {},
   "outputs": [
    {
     "name": "stdout",
     "output_type": "stream",
     "text": [
      "Nhập số: 3\n",
      "Thứ Năm\n"
     ]
    }
   ],
   "source": [
    "num = int(input('Nhập số: '))\n",
    "if num == 0:\n",
    "    print('Thứ Hai')\n",
    "elif num == 1:\n",
    "    print('Thứ Ba')\n",
    "elif num == 2:\n",
    "    print('Thứ Tư')\n",
    "elif num == 3:\n",
    "    print('Thứ Năm')\n",
    "elif num == 4:\n",
    "    print('Thứ Sáu')\n",
    "elif num == 5:\n",
    "    print('Thứ Bảy')\n",
    "elif num == 6:\n",
    "    print('Chủ Nhật')\n",
    "else:\n",
    "    print('Giá trị nhập không đúng')"
   ]
  },
  {
   "cell_type": "code",
   "execution_count": 20,
   "id": "263bb176",
   "metadata": {},
   "outputs": [
    {
     "name": "stdout",
     "output_type": "stream",
     "text": [
      "Nhập số phút gọi: 900\n",
      "Tổng số tiền là 185000\n"
     ]
    }
   ],
   "source": [
    "minutes = int(input('Nhập số phút gọi: '))\n",
    "fee50 = 0\n",
    "fee150 = 0\n",
    "fee200 = 0\n",
    "\n",
    "if minutes > 200:\n",
    "    fee = 600*50 + 400*150 + 200*(minutes-200)\n",
    "elif minutes >\n",
    "\n",
    "if(minutes <= 50):\n",
    "    fee50 = 600*minutes\n",
    "else: \n",
    "    fee50 = 600*50\n",
    "    minutes = minutes - 50\n",
    "    if(minutes <= 150):\n",
    "        fee150 = 400*minutes\n",
    "    elif(minutes > 150 and minutes <= 200):\n",
    "        minutes -= 150\n",
    "        fee150 = 400*minutes\n",
    "    else:\n",
    "        minutes -= 200\n",
    "        fee200 = 200*minutes\n",
    "totalfee = fee50 + fee150 + fee200 + 25000\n",
    "print('Tổng số tiền là', totalfee)\n",
    "    "
   ]
  },
  {
   "cell_type": "code",
   "execution_count": null,
   "id": "6a4fe6f7",
   "metadata": {},
   "outputs": [],
   "source": []
  },
  {
   "cell_type": "code",
   "execution_count": null,
   "id": "f412a44c",
   "metadata": {},
   "outputs": [],
   "source": []
  }
 ],
 "metadata": {
  "kernelspec": {
   "display_name": "Python 3 (ipykernel)",
   "language": "python",
   "name": "python3"
  },
  "language_info": {
   "codemirror_mode": {
    "name": "ipython",
    "version": 3
   },
   "file_extension": ".py",
   "mimetype": "text/x-python",
   "name": "python",
   "nbconvert_exporter": "python",
   "pygments_lexer": "ipython3",
   "version": "3.9.12"
  }
 },
 "nbformat": 4,
 "nbformat_minor": 5
}
